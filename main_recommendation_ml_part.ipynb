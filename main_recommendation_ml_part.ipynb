{
  "nbformat": 4,
  "nbformat_minor": 0,
  "metadata": {
    "colab": {
      "provenance": [],
      "authorship_tag": "ABX9TyOa3d0BKbL1dTRZpLUXUNUc",
      "include_colab_link": true
    },
    "kernelspec": {
      "name": "python3",
      "display_name": "Python 3"
    },
    "language_info": {
      "name": "python"
    }
  },
  "cells": [
    {
      "cell_type": "markdown",
      "metadata": {
        "id": "view-in-github",
        "colab_type": "text"
      },
      "source": [
        "<a href=\"https://colab.research.google.com/github/rubin222/Movie-ticket-booking-with-content-based-filtering/blob/main/main_recommendation_ml_part.ipynb\" target=\"_parent\"><img src=\"https://colab.research.google.com/assets/colab-badge.svg\" alt=\"Open In Colab\"/></a>"
      ]
    },
    {
      "cell_type": "code",
      "execution_count": null,
      "metadata": {
        "colab": {
          "base_uri": "https://localhost:8080/"
        },
        "id": "EQmLNMOj_Du3",
        "outputId": "16dfee3d-b6c4-4e53-f952-be1c54b907d2"
      },
      "outputs": [
        {
          "output_type": "stream",
          "name": "stdout",
          "text": [
            "\n",
            "📂 File: /content/IMDB-Movie-Dataset(2023-1951).csv\n",
            "Original Columns: ['unnamed: 0', 'movie_id', 'movie_name', 'year', 'genre', 'overview', 'director', 'cast']\n",
            "Renamed Columns: ['unnamed: 0', 'movie_id', 'title', 'year', 'genres', 'overview', 'director', 'cast']\n",
            "\n",
            "📂 File: /content/Top_10000_Movies.csv\n",
            "Original Columns: ['unnamed: 0', 'id', 'original_language', 'original_title', 'popularity', 'release_date', 'vote_average', 'vote_count', 'genre', 'overview', 'revenue', 'runtime', 'tagline']\n",
            "Renamed Columns: ['unnamed: 0', 'id', 'original_language', 'title', 'popularity', 'release_date', 'vote_average', 'vote_count', 'genres', 'overview', 'revenue', 'runtime', 'tagline']\n",
            "\n",
            "📂 File: /content/tmdb_5000_movies.csv\n",
            "Original Columns: ['budget', 'genres', 'homepage', 'id', 'keywords', 'original_language', 'original_title', 'overview', 'popularity', 'production_companies', 'production_countries', 'release_date', 'revenue', 'runtime', 'spoken_languages', 'status', 'tagline', 'title', 'vote_average', 'vote_count']\n",
            "Renamed Columns: ['budget', 'genres', 'homepage', 'id', 'keywords', 'original_language', 'original_title', 'overview', 'popularity', 'production_companies', 'production_countries', 'release_date', 'revenue', 'runtime', 'spoken_languages', 'status', 'tagline', 'title', 'vote_average', 'vote_count']\n",
            "\n",
            "✅ Successfully merged datasets!\n",
            "\n",
            "Enter a movie title: Annabelle\n",
            "Recommended Movies: ['Annabelle', 'Annabelle: Creation', 'Annabelle Comes Home', 'Charles', 'The Jack in the Box']\n"
          ]
        }
      ],
      "source": [
        "import pandas as pd\n",
        "import re\n",
        "import string\n",
        "from sklearn.feature_extraction.text import TfidfVectorizer\n",
        "from sklearn.metrics.pairwise import cosine_similarity\n",
        "\n",
        "# File paths\n",
        "file_paths = [\n",
        "    \"/content/IMDB-Movie-Dataset(2023-1951).csv\",\n",
        "    \"/content/Top_10000_Movies.csv\",\n",
        "    \"/content/tmdb_5000_movies.csv\"\n",
        "]\n",
        "\n",
        "# Define possible column names\n",
        "column_mapping = {\n",
        "    \"title\": [\"title\", \"original_title\", \"movie_name\"],\n",
        "    \"genres\": [\"genres\", \"genre\", \"movie_genre\"],\n",
        "    \"overview\": [\"overview\"]\n",
        "}\n",
        "\n",
        "# Load and standardize datasets\n",
        "dfs = []\n",
        "for file_path in file_paths:\n",
        "    try:\n",
        "        df = pd.read_csv(file_path, encoding='utf-8', on_bad_lines='skip', engine='python')\n",
        "        df.columns = df.columns.str.lower().str.strip()\n",
        "\n",
        "        print(f\"\\n📂 File: {file_path}\")\n",
        "        print(\"Original Columns:\", df.columns.tolist())\n",
        "\n",
        "        # Rename columns\n",
        "        new_column_names = {}\n",
        "        for standard_name, variations in column_mapping.items():\n",
        "            for variation in variations:\n",
        "                if variation in df.columns:\n",
        "                    new_column_names[variation] = standard_name\n",
        "                    break\n",
        "        df.rename(columns=new_column_names, inplace=True)\n",
        "\n",
        "        print(\"Renamed Columns:\", df.columns.tolist())\n",
        "\n",
        "        # Ensure required columns exist\n",
        "        if all(col in df.columns for col in column_mapping.keys()):\n",
        "            dfs.append(df)\n",
        "        else:\n",
        "            print(f\"⚠ Skipping {file_path} due to missing necessary columns after renaming.\")\n",
        "    except Exception as e:\n",
        "        print(f\"❌ Error loading {file_path}: {e}\")\n",
        "\n",
        "# Merge datasets\n",
        "if not dfs:\n",
        "    raise ValueError(\"None of the uploaded files contain the required movie details. Check the column names above.\")\n",
        "\n",
        "df = pd.concat(dfs, ignore_index=True)\n",
        "print(\"\\n✅ Successfully merged datasets!\\n\")\n",
        "\n",
        "# Data preprocessing\n",
        "def clean_text(text):\n",
        "    text = str(text).lower()\n",
        "    text = re.sub(f\"[{string.punctuation}]\", \"\", text)\n",
        "    text = re.sub(\"\\\\d+\", \"\", text)\n",
        "    return text\n",
        "\n",
        "df['title'] = df['title'].fillna(\"Unknown\")\n",
        "df['genres'] = df['genres'].fillna(\"Unknown\")\n",
        "df['overview'] = df['overview'].fillna(\"Unknown\")\n",
        "df['combined_features'] = df['title'] + \" \" + df['genres'] + \" \" + df['overview']\n",
        "df['combined_features'] = df['combined_features'].apply(clean_text)\n",
        "\n",
        "# Convert text to feature vectors\n",
        "vectorizer = TfidfVectorizer(stop_words='english')\n",
        "tfidf_matrix = vectorizer.fit_transform(df['combined_features'])\n",
        "\n",
        "# Compute cosine similarity\n",
        "cosine_sim = cosine_similarity(tfidf_matrix, tfidf_matrix)\n",
        "\n",
        "# Movie recommendation function\n",
        "def recommend_movies(movie_title, num_recommendations=5):\n",
        "    if movie_title not in df['title'].values:\n",
        "        return f\"Movie '{movie_title}' not found in dataset. Please enter a valid movie title.\"\n",
        "\n",
        "    idx = df.index[df['title'] == movie_title].tolist()[0]\n",
        "    sim_scores = list(enumerate(cosine_sim[idx]))\n",
        "    sim_scores = sorted(sim_scores, key=lambda x: x[1], reverse=True)[1:num_recommendations+1]\n",
        "    movie_indices = [i[0] for i in sim_scores]\n",
        "\n",
        "    return df['title'].iloc[movie_indices].tolist()\n",
        "\n",
        "# Example usage\n",
        "movie_name = input(\"Enter a movie title: \")\n",
        "recommended_movies = recommend_movies(movie_name)\n",
        "print(\"Recommended Movies:\", recommended_movies)"
      ]
    },
    {
      "cell_type": "code",
      "source": [],
      "metadata": {
        "id": "6iPbg5nH_8sV"
      },
      "execution_count": null,
      "outputs": []
    }
  ]
}